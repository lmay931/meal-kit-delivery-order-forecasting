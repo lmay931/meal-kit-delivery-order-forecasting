{
 "cells": [
  {
   "cell_type": "markdown",
   "id": "3a220838",
   "metadata": {},
   "source": [
    "# Forecasting orders for a meal kit delivery service "
   ]
  },
  {
   "cell_type": "markdown",
   "id": "4ad0d0bb",
   "metadata": {},
   "source": [
    "According to a recent report by grandviewresearch.com, \"the global meal kit delivery services market size was valued at USD 10.26 billion in 2020 and is expected to expand at an annual growth rate of 13.0% from 2021 to 2028\". One of the major challenges meal kit delivery services face is to accurately forecast and predict customer orders. This is to ensure just enough produce is purchased to serve customer orders while keeping waste at a minimum. Due to the extremely competitive nature of the industry, having an accurate forecasting system in place is essential.\n",
    "\n",
    "In this analysis, I will be looking at data from a leading meal delivery kit company over 8 weeks in 2020, which shows daily data on customer's meal delivery kit orders and, in particular, optional add-ons that can be purchased on top of the standard meal box. Let's take a look at the data:"
   ]
  },
  {
   "cell_type": "code",
   "execution_count": 3,
   "id": "c0b108c5",
   "metadata": {},
   "outputs": [],
   "source": [
    "import pandas as pd\n",
    "import matplotlib.pyplot as plt\n",
    "from datetime import timedelta\n",
    "import numpy as np\n",
    "\n",
    "daily = pd.read_csv('../addons_daily.csv', parse_dates=['timestamp'], dayfirst=True)\n",
    "final = pd.read_csv('../addons_final.csv')"
   ]
  },
  {
   "cell_type": "code",
   "execution_count": 4,
   "id": "6ed8740a",
   "metadata": {
    "scrolled": true
   },
   "outputs": [
    {
     "name": "stdout",
     "output_type": "stream",
     "text": [
      "<class 'pandas.core.frame.DataFrame'>\n",
      "RangeIndex: 432 entries, 0 to 431\n",
      "Data columns (total 12 columns):\n",
      " #   Column          Non-Null Count  Dtype         \n",
      "---  ------          --------------  -----         \n",
      " 0   timestamp       432 non-null    datetime64[ns]\n",
      " 1   week            432 non-null    object        \n",
      " 2   production_day  432 non-null    object        \n",
      " 3   delivery_day    432 non-null    object        \n",
      " 4   island          432 non-null    object        \n",
      " 5   fruitboxes      432 non-null    int64         \n",
      " 6   soups           432 non-null    int64         \n",
      " 7   sides           432 non-null    int64         \n",
      " 8   desserts        432 non-null    int64         \n",
      " 9   lunch           432 non-null    int64         \n",
      " 10  brunch          432 non-null    int64         \n",
      " 11  ready-to-heat   192 non-null    float64       \n",
      "dtypes: datetime64[ns](1), float64(1), int64(6), object(4)\n",
      "memory usage: 40.6+ KB\n"
     ]
    }
   ],
   "source": [
    "daily.info()"
   ]
  },
  {
   "cell_type": "code",
   "execution_count": 5,
   "id": "4771a36d",
   "metadata": {},
   "outputs": [
    {
     "data": {
      "text/html": [
       "<div>\n",
       "<style scoped>\n",
       "    .dataframe tbody tr th:only-of-type {\n",
       "        vertical-align: middle;\n",
       "    }\n",
       "\n",
       "    .dataframe tbody tr th {\n",
       "        vertical-align: top;\n",
       "    }\n",
       "\n",
       "    .dataframe thead th {\n",
       "        text-align: right;\n",
       "    }\n",
       "</style>\n",
       "<table border=\"1\" class=\"dataframe\">\n",
       "  <thead>\n",
       "    <tr style=\"text-align: right;\">\n",
       "      <th></th>\n",
       "      <th>timestamp</th>\n",
       "      <th>week</th>\n",
       "      <th>production_day</th>\n",
       "      <th>delivery_day</th>\n",
       "      <th>island</th>\n",
       "      <th>fruitboxes</th>\n",
       "      <th>soups</th>\n",
       "      <th>sides</th>\n",
       "      <th>desserts</th>\n",
       "      <th>lunch</th>\n",
       "      <th>brunch</th>\n",
       "      <th>ready-to-heat</th>\n",
       "    </tr>\n",
       "  </thead>\n",
       "  <tbody>\n",
       "    <tr>\n",
       "      <th>0</th>\n",
       "      <td>2020-06-11 09:00:00</td>\n",
       "      <td>2020-W25</td>\n",
       "      <td>Friday</td>\n",
       "      <td>Saturday</td>\n",
       "      <td>North</td>\n",
       "      <td>17</td>\n",
       "      <td>62</td>\n",
       "      <td>50</td>\n",
       "      <td>123</td>\n",
       "      <td>13</td>\n",
       "      <td>18</td>\n",
       "      <td>NaN</td>\n",
       "    </tr>\n",
       "    <tr>\n",
       "      <th>1</th>\n",
       "      <td>2020-06-11 09:00:00</td>\n",
       "      <td>2020-W25</td>\n",
       "      <td>Friday</td>\n",
       "      <td>Sunday</td>\n",
       "      <td>South</td>\n",
       "      <td>11</td>\n",
       "      <td>41</td>\n",
       "      <td>35</td>\n",
       "      <td>84</td>\n",
       "      <td>9</td>\n",
       "      <td>12</td>\n",
       "      <td>NaN</td>\n",
       "    </tr>\n",
       "    <tr>\n",
       "      <th>2</th>\n",
       "      <td>2020-06-11 09:00:00</td>\n",
       "      <td>2020-W25</td>\n",
       "      <td>Saturday</td>\n",
       "      <td>Sunday</td>\n",
       "      <td>North</td>\n",
       "      <td>22</td>\n",
       "      <td>80</td>\n",
       "      <td>66</td>\n",
       "      <td>161</td>\n",
       "      <td>17</td>\n",
       "      <td>23</td>\n",
       "      <td>NaN</td>\n",
       "    </tr>\n",
       "    <tr>\n",
       "      <th>3</th>\n",
       "      <td>2020-06-11 09:00:00</td>\n",
       "      <td>2020-W25</td>\n",
       "      <td>Sunday</td>\n",
       "      <td>Monday</td>\n",
       "      <td>North</td>\n",
       "      <td>6</td>\n",
       "      <td>35</td>\n",
       "      <td>26</td>\n",
       "      <td>74</td>\n",
       "      <td>5</td>\n",
       "      <td>8</td>\n",
       "      <td>NaN</td>\n",
       "    </tr>\n",
       "    <tr>\n",
       "      <th>4</th>\n",
       "      <td>2020-06-11 09:00:00</td>\n",
       "      <td>2020-W25</td>\n",
       "      <td>Monday</td>\n",
       "      <td>Tuesday</td>\n",
       "      <td>South</td>\n",
       "      <td>8</td>\n",
       "      <td>26</td>\n",
       "      <td>25</td>\n",
       "      <td>53</td>\n",
       "      <td>5</td>\n",
       "      <td>8</td>\n",
       "      <td>NaN</td>\n",
       "    </tr>\n",
       "    <tr>\n",
       "      <th>5</th>\n",
       "      <td>2020-06-11 09:00:00</td>\n",
       "      <td>2020-W25</td>\n",
       "      <td>Monday</td>\n",
       "      <td>Tuesday</td>\n",
       "      <td>North</td>\n",
       "      <td>19</td>\n",
       "      <td>62</td>\n",
       "      <td>59</td>\n",
       "      <td>125</td>\n",
       "      <td>13</td>\n",
       "      <td>20</td>\n",
       "      <td>NaN</td>\n",
       "    </tr>\n",
       "    <tr>\n",
       "      <th>6</th>\n",
       "      <td>2020-06-11 09:00:00</td>\n",
       "      <td>2020-W25</td>\n",
       "      <td>Tuesday</td>\n",
       "      <td>Wednesday</td>\n",
       "      <td>North</td>\n",
       "      <td>5</td>\n",
       "      <td>24</td>\n",
       "      <td>25</td>\n",
       "      <td>40</td>\n",
       "      <td>9</td>\n",
       "      <td>4</td>\n",
       "      <td>NaN</td>\n",
       "    </tr>\n",
       "    <tr>\n",
       "      <th>7</th>\n",
       "      <td>2020-06-11 09:00:00</td>\n",
       "      <td>2020-W25</td>\n",
       "      <td>Wednesday</td>\n",
       "      <td>Thursday</td>\n",
       "      <td>North</td>\n",
       "      <td>3</td>\n",
       "      <td>3</td>\n",
       "      <td>12</td>\n",
       "      <td>17</td>\n",
       "      <td>2</td>\n",
       "      <td>7</td>\n",
       "      <td>NaN</td>\n",
       "    </tr>\n",
       "    <tr>\n",
       "      <th>8</th>\n",
       "      <td>2020-06-14 09:00:00</td>\n",
       "      <td>2020-W25</td>\n",
       "      <td>Friday</td>\n",
       "      <td>Saturday</td>\n",
       "      <td>North</td>\n",
       "      <td>26</td>\n",
       "      <td>93</td>\n",
       "      <td>77</td>\n",
       "      <td>156</td>\n",
       "      <td>17</td>\n",
       "      <td>25</td>\n",
       "      <td>NaN</td>\n",
       "    </tr>\n",
       "    <tr>\n",
       "      <th>9</th>\n",
       "      <td>2020-06-14 09:00:00</td>\n",
       "      <td>2020-W25</td>\n",
       "      <td>Friday</td>\n",
       "      <td>Sunday</td>\n",
       "      <td>South</td>\n",
       "      <td>19</td>\n",
       "      <td>65</td>\n",
       "      <td>54</td>\n",
       "      <td>110</td>\n",
       "      <td>12</td>\n",
       "      <td>17</td>\n",
       "      <td>NaN</td>\n",
       "    </tr>\n",
       "  </tbody>\n",
       "</table>\n",
       "</div>"
      ],
      "text/plain": [
       "            timestamp      week production_day delivery_day island  \\\n",
       "0 2020-06-11 09:00:00  2020-W25         Friday     Saturday  North   \n",
       "1 2020-06-11 09:00:00  2020-W25         Friday       Sunday  South   \n",
       "2 2020-06-11 09:00:00  2020-W25       Saturday       Sunday  North   \n",
       "3 2020-06-11 09:00:00  2020-W25         Sunday       Monday  North   \n",
       "4 2020-06-11 09:00:00  2020-W25         Monday      Tuesday  South   \n",
       "5 2020-06-11 09:00:00  2020-W25         Monday      Tuesday  North   \n",
       "6 2020-06-11 09:00:00  2020-W25        Tuesday    Wednesday  North   \n",
       "7 2020-06-11 09:00:00  2020-W25      Wednesday     Thursday  North   \n",
       "8 2020-06-14 09:00:00  2020-W25         Friday     Saturday  North   \n",
       "9 2020-06-14 09:00:00  2020-W25         Friday       Sunday  South   \n",
       "\n",
       "   fruitboxes  soups  sides  desserts  lunch  brunch  ready-to-heat  \n",
       "0          17     62     50       123     13      18            NaN  \n",
       "1          11     41     35        84      9      12            NaN  \n",
       "2          22     80     66       161     17      23            NaN  \n",
       "3           6     35     26        74      5       8            NaN  \n",
       "4           8     26     25        53      5       8            NaN  \n",
       "5          19     62     59       125     13      20            NaN  \n",
       "6           5     24     25        40      9       4            NaN  \n",
       "7           3      3     12        17      2       7            NaN  \n",
       "8          26     93     77       156     17      25            NaN  \n",
       "9          19     65     54       110     12      17            NaN  "
      ]
     },
     "execution_count": 5,
     "metadata": {},
     "output_type": "execute_result"
    }
   ],
   "source": [
    "daily.head(10)"
   ]
  },
  {
   "cell_type": "markdown",
   "id": "e28817c9",
   "metadata": {},
   "source": [
    "Looking at the table, there appear to be 6 delivery day options for the North island and 2 for the South Island for which customer orders are queried every morning.\n",
    "\n",
    "Since we are simply trying to predict customer's orders of different add-ons for different delivery dates we can safely remove the production day column. This is of course assumes quality of ingredients remains constant regardless of production date, which seems like a reasonable assumption. Other than that, customer's should not care (or even notice) when their food box has been produced. Therefore any information gathered from this variable would likely be just noise."
   ]
  },
  {
   "cell_type": "code",
   "execution_count": 56,
   "id": "9df3683f",
   "metadata": {},
   "outputs": [],
   "source": [
    "daily = daily.drop('production_day',axis=1)\n",
    "final = final.drop('production_day',axis=1)"
   ]
  },
  {
   "cell_type": "markdown",
   "id": "ab088180",
   "metadata": {},
   "source": [
    "To get a better understanding of the weekly order patterns, I will aggregate the daily order data to see if there are any trends, before investigating any differences betweeen delivery days and North and South island customers.\n",
    "\n",
    "To do this, the dates for the last day of one week and the first day of the following week will have to be separated as they are currently the same. Otherwise a week's last day will also include the first values of the week after."
   ]
  },
  {
   "cell_type": "code",
   "execution_count": 7,
   "id": "2903d7b3",
   "metadata": {},
   "outputs": [
    {
     "data": {
      "text/plain": [
       "<AxesSubplot:title={'center':'Aggregate Daily Orders'}, xlabel='timestamp'>"
      ]
     },
     "execution_count": 7,
     "metadata": {},
     "output_type": "execute_result"
    },
    {
     "data": {
      "image/png": "[encoded data removed]",
      "text/plain": [
       "<Figure size 1440x720 with 1 Axes>"
      ]
     },
     "metadata": {
      "needs_background": "light"
     },
     "output_type": "display_data"
    }
   ],
   "source": [
    "#We need to add dates for the final number days to unique in order to index final_copy correctly:\n",
    "count=0; date_in=daily.loc[0,'timestamp']\n",
    "for i in range(0,len(daily)):\n",
    "    count+=1\n",
    "    if count==9:\n",
    "        if daily.loc[i,'timestamp'] == date_in:\n",
    "            for j in range(8): daily.loc[i+j,'timestamp'] += timedelta(days=1)\n",
    "            count=1\n",
    "            date_in = daily.loc[i,'timestamp']\n",
    "        else: \n",
    "            date_in = daily.loc[i,'timestamp']\n",
    "            count=1\n",
    "\n",
    "daily_gbt = daily.groupby('timestamp').sum()\n",
    "daily_gbt.plot(kind='bar',figsize=(20, 10), width=1,title='Aggregate Daily Orders')"
   ]
  },
  {
   "cell_type": "markdown",
   "id": "c0945992",
   "metadata": {},
   "source": [
    "It appears that order numbers for each add-on product keep increasing as it gets closer to the delivery date (every six days represent one week). However, at the start of the next week, order numbers are usually around where they started the week before at that time. This suggests that customers typically only order add-on products on a weekly basis rather than permanently including them in their subscription.\n",
    "\n",
    "That being said, the weekly order patterns still look relatively constant, on average roughly the same number of customers appear to be making the decision to add a particular add-on in any given week. To get a closer look into this, I will group the data by week to confirm this.\n"
   ]
  },
  {
   "cell_type": "code",
   "execution_count": 8,
   "id": "9290d06b",
   "metadata": {},
   "outputs": [
    {
     "data": {
      "text/plain": [
       "<AxesSubplot:title={'center':'Aggregate Weekly Orders'}, xlabel='week'>"
      ]
     },
     "execution_count": 8,
     "metadata": {},
     "output_type": "execute_result"
    },
    {
     "data": {
      "image/png": "[encoded data removed]",
      "text/plain": [
       "<Figure size 1440x720 with 1 Axes>"
      ]
     },
     "metadata": {
      "needs_background": "light"
     },
     "output_type": "display_data"
    }
   ],
   "source": [
    "daily_gbw= daily.groupby('week').sum()\n",
    "daily_gbw.plot(kind='bar',figsize=(20, 10), width=1,title='Aggregate Weekly Orders')"
   ]
  },
  {
   "cell_type": "markdown",
   "id": "84bb9a65",
   "metadata": {},
   "source": [
    "Plotting the data by week appears to confirm the absense of any significant trend, we can see that as ready-to-heat meals get introduced there is a bit of hype for them at first (apparently cannibilising sales for dessert product at the same time). However, by week 33 this seems to have waned of a bit and dessert sale are back to their previous average around 5000 a week."
   ]
  },
  {
   "cell_type": "markdown",
   "id": "057ae906",
   "metadata": {},
   "source": [
    "# Daily and final numbers"
   ]
  },
  {
   "cell_type": "markdown",
   "id": "3d5db666",
   "metadata": {},
   "source": [
    "Most importantly for predicting final numbers from daily numbers will of course be the relationship between daily and final numbers, overall and for each of the eight different production/ delivery day combinations. \n",
    "\n",
    "To get a better understanding of this relationship, I will add final numbers for a couple of weeks to the first graph:"
   ]
  },
  {
   "cell_type": "code",
   "execution_count": 9,
   "id": "7a321117",
   "metadata": {},
   "outputs": [
    {
     "data": {
      "text/html": [
       "<div>\n",
       "<style scoped>\n",
       "    .dataframe tbody tr th:only-of-type {\n",
       "        vertical-align: middle;\n",
       "    }\n",
       "\n",
       "    .dataframe tbody tr th {\n",
       "        vertical-align: top;\n",
       "    }\n",
       "\n",
       "    .dataframe thead th {\n",
       "        text-align: right;\n",
       "    }\n",
       "</style>\n",
       "<table border=\"1\" class=\"dataframe\">\n",
       "  <thead>\n",
       "    <tr style=\"text-align: right;\">\n",
       "      <th></th>\n",
       "      <th>week</th>\n",
       "      <th>addon_type</th>\n",
       "      <th>delivery_day</th>\n",
       "      <th>island</th>\n",
       "      <th>box_nr</th>\n",
       "    </tr>\n",
       "  </thead>\n",
       "  <tbody>\n",
       "    <tr>\n",
       "      <th>0</th>\n",
       "      <td>2020-W25</td>\n",
       "      <td>brunch</td>\n",
       "      <td>Saturday</td>\n",
       "      <td>North</td>\n",
       "      <td>24</td>\n",
       "    </tr>\n",
       "    <tr>\n",
       "      <th>1</th>\n",
       "      <td>2020-W25</td>\n",
       "      <td>desserts</td>\n",
       "      <td>Saturday</td>\n",
       "      <td>North</td>\n",
       "      <td>197</td>\n",
       "    </tr>\n",
       "    <tr>\n",
       "      <th>2</th>\n",
       "      <td>2020-W25</td>\n",
       "      <td>fruitboxes</td>\n",
       "      <td>Saturday</td>\n",
       "      <td>North</td>\n",
       "      <td>43</td>\n",
       "    </tr>\n",
       "    <tr>\n",
       "      <th>3</th>\n",
       "      <td>2020-W25</td>\n",
       "      <td>lunch</td>\n",
       "      <td>Saturday</td>\n",
       "      <td>North</td>\n",
       "      <td>22</td>\n",
       "    </tr>\n",
       "    <tr>\n",
       "      <th>4</th>\n",
       "      <td>2020-W25</td>\n",
       "      <td>sides</td>\n",
       "      <td>Saturday</td>\n",
       "      <td>North</td>\n",
       "      <td>119</td>\n",
       "    </tr>\n",
       "    <tr>\n",
       "      <th>5</th>\n",
       "      <td>2020-W25</td>\n",
       "      <td>soups</td>\n",
       "      <td>Saturday</td>\n",
       "      <td>North</td>\n",
       "      <td>122</td>\n",
       "    </tr>\n",
       "    <tr>\n",
       "      <th>6</th>\n",
       "      <td>2020-W25</td>\n",
       "      <td>brunch</td>\n",
       "      <td>Sunday</td>\n",
       "      <td>South</td>\n",
       "      <td>16</td>\n",
       "    </tr>\n",
       "    <tr>\n",
       "      <th>7</th>\n",
       "      <td>2020-W25</td>\n",
       "      <td>desserts</td>\n",
       "      <td>Sunday</td>\n",
       "      <td>South</td>\n",
       "      <td>95</td>\n",
       "    </tr>\n",
       "    <tr>\n",
       "      <th>8</th>\n",
       "      <td>2020-W25</td>\n",
       "      <td>fruitboxes</td>\n",
       "      <td>Sunday</td>\n",
       "      <td>South</td>\n",
       "      <td>23</td>\n",
       "    </tr>\n",
       "    <tr>\n",
       "      <th>9</th>\n",
       "      <td>2020-W25</td>\n",
       "      <td>lunch</td>\n",
       "      <td>Sunday</td>\n",
       "      <td>South</td>\n",
       "      <td>9</td>\n",
       "    </tr>\n",
       "  </tbody>\n",
       "</table>\n",
       "</div>"
      ],
      "text/plain": [
       "       week  addon_type delivery_day island  box_nr\n",
       "0  2020-W25      brunch     Saturday  North      24\n",
       "1  2020-W25    desserts     Saturday  North     197\n",
       "2  2020-W25  fruitboxes     Saturday  North      43\n",
       "3  2020-W25       lunch     Saturday  North      22\n",
       "4  2020-W25       sides     Saturday  North     119\n",
       "5  2020-W25       soups     Saturday  North     122\n",
       "6  2020-W25      brunch       Sunday  South      16\n",
       "7  2020-W25    desserts       Sunday  South      95\n",
       "8  2020-W25  fruitboxes       Sunday  South      23\n",
       "9  2020-W25       lunch       Sunday  South       9"
      ]
     },
     "execution_count": 9,
     "metadata": {},
     "output_type": "execute_result"
    }
   ],
   "source": [
    "final.head(10)"
   ]
  },
  {
   "cell_type": "code",
   "execution_count": 10,
   "id": "397084d5",
   "metadata": {},
   "outputs": [],
   "source": [
    "#Function to combine daily and final data into one dataframe to make plotting easier\n",
    "def combine_final(week):\n",
    "    daily_byweek = daily.loc[daily['week'] == week]\n",
    "    final_byweek = final.loc[final['week'] == week]\n",
    "\n",
    "    final_byweek = final_byweek.join(pd.get_dummies(final_byweek.addon_type).mul(final_byweek.box_nr, axis=0)) \\\n",
    "    .drop(['addon_type','box_nr'],axis=1).groupby(['delivery_day','island']).sum()\n",
    "    add = daily.loc[daily['week'] == '2020-W25'].iloc[0:8,:]\n",
    "    \n",
    "    for i in range(len(add)):\n",
    "        items = final_byweek.loc[add.iloc[i,2],add.iloc[i,3]]\n",
    "        for j in final_byweek.columns: \n",
    "            add.loc[i,j] = items[j]\n",
    "        add.iloc[i,0] = 'final_'+str(add.iloc[i,2])+'_'+add.iloc[i,3]\n",
    "        add.iloc[i,1] = week\n",
    "        \n",
    "    return daily_byweek.append(add, ignore_index=True)\n",
    "\n",
    "\n",
    "#Let's choose week 29 and 32:\n",
    "daily29 = combine_final('2020-W29').set_index('timestamp')\n",
    "daily32 = combine_final('2020-W32').set_index('timestamp')"
   ]
  },
  {
   "cell_type": "code",
   "execution_count": 11,
   "id": "b4ae102d",
   "metadata": {
    "scrolled": false
   },
   "outputs": [
    {
     "data": {
      "text/plain": [
       "<AxesSubplot:title={'center':'Daily and final numbers in Week 29'}, xlabel='timestamp'>"
      ]
     },
     "execution_count": 11,
     "metadata": {},
     "output_type": "execute_result"
    },
    {
     "data": {
      "image/png": "[encoded data removed]",
      "text/plain": [
       "<Figure size 1440x720 with 1 Axes>"
      ]
     },
     "metadata": {
      "needs_background": "light"
     },
     "output_type": "display_data"
    }
   ],
   "source": [
    "daily29.plot(kind='bar',figsize=(20, 10), width=2,title='Daily and final numbers in Week 29')"
   ]
  },
  {
   "cell_type": "markdown",
   "id": "259e429d",
   "metadata": {},
   "source": [
    "It appears that order count generally tends to increase as the week passes. For some delivery dates, orders already plateau on Tuesday (04.08) whereas for others they only peak on the last day (06.08, Thursday). Surprisingly, final numbers appear to be slightly below the daily numbers reported in the last three days before.\n",
    "\n",
    "Let's see how this compares to week32:"
   ]
  },
  {
   "cell_type": "code",
   "execution_count": 12,
   "id": "d203d6dc",
   "metadata": {},
   "outputs": [
    {
     "data": {
      "text/plain": [
       "<AxesSubplot:title={'center':'Daily and final numbers in Week 32'}, xlabel='timestamp'>"
      ]
     },
     "execution_count": 12,
     "metadata": {},
     "output_type": "execute_result"
    },
    {
     "data": {
      "image/png": "[encoded data removed]",
      "text/plain": [
       "<Figure size 1440x720 with 1 Axes>"
      ]
     },
     "metadata": {
      "needs_background": "light"
     },
     "output_type": "display_data"
    }
   ],
   "source": [
    "daily32.plot(kind='bar',figsize=(20, 10), width=2,title='Daily and final numbers in Week 32')"
   ]
  },
  {
   "cell_type": "markdown",
   "id": "4c72a482",
   "metadata": {},
   "source": [
    "The same pattern appears to be happening in week 32, orders plateau around the 4th day of the week and remain relatively stable on the 5th and 6th and then are slightly lower in the final numbers. This is likely due to some last minute cancellations and will be important to keep in mind when forecasting final numbers."
   ]
  },
  {
   "cell_type": "markdown",
   "id": "2c3b27fe",
   "metadata": {},
   "source": [
    "# Fitting a first model to predict Week33 final numbers"
   ]
  },
  {
   "cell_type": "markdown",
   "id": "9028e263",
   "metadata": {},
   "source": [
    "Looking at the plots above it appears that the weekly order patterns and the relationship between daily and final values is relatively consistent, without any obvious increasing or decreasing trends.\n",
    "\n",
    "I will therefore start off by fitting a basic model that takes the only the 6 prior daily numbers of the current week as inputs and outputs an estimate of the final number for each delivery day, island and add-on item. This assumes that only the current week's daily numbers impact the week's final number, and that previous weeks do not. I will investigate whether or not this is a reasonable assumption after fitting the initial model.\n",
    "\n",
    "This will require some changes to the structure of the data, where each final number for each delivery day/ island/ add-on item combination has its corresponding daily numbers in the same row."
   ]
  },
  {
   "cell_type": "code",
   "execution_count": 7,
   "id": "53e815ab",
   "metadata": {
    "scrolled": false
   },
   "outputs": [],
   "source": [
    "new_cols = ['day1','day2','day3','day4','day5','day6']\n",
    "for i in new_cols: final[i] = np.zeros(len(final))\n",
    "\n",
    "final = final.set_index(['week','addon_type','delivery_day','island'])\n",
    "\n",
    "daily = daily.melt(id_vars=[\"timestamp\", \"week\",\"delivery_day\",\"island\"], \n",
    "        var_name=\"addon_type\", \n",
    "        value_name=\"daily_number\")     \n",
    "\n",
    "\n",
    "unique_days = daily.timestamp.unique()\n",
    "\n",
    "for i in range(0,len(daily)):\n",
    "    day = np.where(unique_days==daily.iloc[i,0])[0][0]%6+1\n",
    "    final.loc[(daily.iloc[i,1],daily.iloc[i,4],daily.iloc[i,2],daily.iloc[i,3]),'day'+str(day)] = daily.iloc[i,5]\n",
    "\n",
    "final = final.reset_index().fillna(value=0,axis=1)\n",
    "final.rename(columns={'box_nr':'final_number'}, inplace=True)\n",
    "\n",
    "#We need to drop week 33's daily numbers from the training set as we don't have final numbers to train it on. \n",
    "# Final33 will be needed when making final predictions \n",
    "final_pred = final.loc[final['week']!='2020-W33']\n"
   ]
  },
  {
   "cell_type": "code",
   "execution_count": 8,
   "id": "936a8b9b",
   "metadata": {},
   "outputs": [
    {
     "data": {
      "text/html": [
       "<div>\n",
       "<style scoped>\n",
       "    .dataframe tbody tr th:only-of-type {\n",
       "        vertical-align: middle;\n",
       "    }\n",
       "\n",
       "    .dataframe tbody tr th {\n",
       "        vertical-align: top;\n",
       "    }\n",
       "\n",
       "    .dataframe thead th {\n",
       "        text-align: right;\n",
       "    }\n",
       "</style>\n",
       "<table border=\"1\" class=\"dataframe\">\n",
       "  <thead>\n",
       "    <tr style=\"text-align: right;\">\n",
       "      <th></th>\n",
       "      <th>week</th>\n",
       "      <th>addon_type</th>\n",
       "      <th>delivery_day</th>\n",
       "      <th>island</th>\n",
       "      <th>production_day</th>\n",
       "      <th>final_number</th>\n",
       "      <th>day1</th>\n",
       "      <th>day2</th>\n",
       "      <th>day3</th>\n",
       "      <th>day4</th>\n",
       "      <th>day5</th>\n",
       "      <th>day6</th>\n",
       "    </tr>\n",
       "  </thead>\n",
       "  <tbody>\n",
       "    <tr>\n",
       "      <th>0</th>\n",
       "      <td>2020-W25</td>\n",
       "      <td>brunch</td>\n",
       "      <td>Saturday</td>\n",
       "      <td>North</td>\n",
       "      <td>Friday</td>\n",
       "      <td>24.0</td>\n",
       "      <td>18</td>\n",
       "      <td>25</td>\n",
       "      <td>26</td>\n",
       "      <td>26</td>\n",
       "      <td>26</td>\n",
       "      <td>26</td>\n",
       "    </tr>\n",
       "    <tr>\n",
       "      <th>1</th>\n",
       "      <td>2020-W25</td>\n",
       "      <td>desserts</td>\n",
       "      <td>Saturday</td>\n",
       "      <td>North</td>\n",
       "      <td>Friday</td>\n",
       "      <td>197.0</td>\n",
       "      <td>123</td>\n",
       "      <td>156</td>\n",
       "      <td>181</td>\n",
       "      <td>203</td>\n",
       "      <td>203</td>\n",
       "      <td>203</td>\n",
       "    </tr>\n",
       "    <tr>\n",
       "      <th>2</th>\n",
       "      <td>2020-W25</td>\n",
       "      <td>fruitboxes</td>\n",
       "      <td>Saturday</td>\n",
       "      <td>North</td>\n",
       "      <td>Friday</td>\n",
       "      <td>43.0</td>\n",
       "      <td>17</td>\n",
       "      <td>26</td>\n",
       "      <td>33</td>\n",
       "      <td>43</td>\n",
       "      <td>43</td>\n",
       "      <td>43</td>\n",
       "    </tr>\n",
       "    <tr>\n",
       "      <th>3</th>\n",
       "      <td>2020-W25</td>\n",
       "      <td>lunch</td>\n",
       "      <td>Saturday</td>\n",
       "      <td>North</td>\n",
       "      <td>Friday</td>\n",
       "      <td>22.0</td>\n",
       "      <td>13</td>\n",
       "      <td>17</td>\n",
       "      <td>19</td>\n",
       "      <td>23</td>\n",
       "      <td>23</td>\n",
       "      <td>23</td>\n",
       "    </tr>\n",
       "    <tr>\n",
       "      <th>4</th>\n",
       "      <td>2020-W25</td>\n",
       "      <td>sides</td>\n",
       "      <td>Saturday</td>\n",
       "      <td>North</td>\n",
       "      <td>Friday</td>\n",
       "      <td>119.0</td>\n",
       "      <td>50</td>\n",
       "      <td>77</td>\n",
       "      <td>94</td>\n",
       "      <td>109</td>\n",
       "      <td>109</td>\n",
       "      <td>109</td>\n",
       "    </tr>\n",
       "  </tbody>\n",
       "</table>\n",
       "</div>"
      ],
      "text/plain": [
       "       week  addon_type delivery_day island production_day  final_number day1  \\\n",
       "0  2020-W25      brunch     Saturday  North         Friday          24.0   18   \n",
       "1  2020-W25    desserts     Saturday  North         Friday         197.0  123   \n",
       "2  2020-W25  fruitboxes     Saturday  North         Friday          43.0   17   \n",
       "3  2020-W25       lunch     Saturday  North         Friday          22.0   13   \n",
       "4  2020-W25       sides     Saturday  North         Friday         119.0   50   \n",
       "\n",
       "  day2 day3 day4 day5 day6  \n",
       "0   25   26   26   26   26  \n",
       "1  156  181  203  203  203  \n",
       "2   26   33   43   43   43  \n",
       "3   17   19   23   23   23  \n",
       "4   77   94  109  109  109  "
      ]
     },
     "execution_count": 8,
     "metadata": {},
     "output_type": "execute_result"
    }
   ],
   "source": [
    "final_pred.head()"
   ]
  },
  {
   "cell_type": "markdown",
   "id": "bdbf61c8",
   "metadata": {},
   "source": [
    "Now the data is in the right format to fit the model. We will predict box_nr based on the values for day1-day6, as well as the categorical variables addon_type, delivery_day and island. To use these in the regression model I convert them to dummy variables which equal 1 if it is the correct category and 0 otherwise."
   ]
  },
  {
   "cell_type": "code",
   "execution_count": 45,
   "id": "95528a0e",
   "metadata": {},
   "outputs": [
    {
     "name": "stdout",
     "output_type": "stream",
     "text": [
      "Average RMSE for the Linear Model:  7.57671607539137\n"
     ]
    }
   ],
   "source": [
    "Xtrain = pd.get_dummies(final_pred.drop(['final_number','week'], axis = 1))  #week is not a significant predictor for the model and I have dropped it therefore\n",
    "ytrain = final_pred.loc[:,'final_number']\n",
    "\n",
    "from sklearn.model_selection import TimeSeriesSplit\n",
    "from sklearn.linear_model import LinearRegression\n",
    "from sklearn.model_selection import cross_val_score\n",
    "\n",
    "LR = LinearRegression()\n",
    "\n",
    "# We have 7 weeks in the training set, therefore 6 splits should work well\n",
    "CV_split = TimeSeriesSplit(n_splits=6)\n",
    "cvs = cross_val_score(LR, Xtrain, ytrain, cv=CV_split, scoring='neg_mean_squared_error')\n",
    "    \n",
    "print(\"Average RMSE for the Linear Model: \",np.sqrt(-cvs).mean())"
   ]
  },
  {
   "cell_type": "markdown",
   "id": "ced8a957",
   "metadata": {},
   "source": [
    "An average RMSE of 7.58 for the linear regression model is a decent place to start. Let's try a few other regression algorithms:"
   ]
  },
  {
   "cell_type": "markdown",
   "id": "35893d4a",
   "metadata": {},
   "source": [
    "## Fitting a few different regression models"
   ]
  },
  {
   "cell_type": "code",
   "execution_count": 16,
   "id": "575de650",
   "metadata": {},
   "outputs": [
    {
     "name": "stdout",
     "output_type": "stream",
     "text": [
      "Average RMSE for the Decision Tree Model:  10.336117338580538\n",
      "Average RMSE for the KNN Model:  9.735898484192559\n",
      "Average RMSE for the Random Forest Model:  8.057743058404396\n",
      "Average RMSE for the Gradient Boosting Model:  14.328732500552283\n"
     ]
    }
   ],
   "source": [
    "from sklearn.tree import DecisionTreeRegressor\n",
    "from sklearn.neighbors import KNeighborsRegressor\n",
    "from sklearn.ensemble import GradientBoostingClassifier, RandomForestRegressor\n",
    "\n",
    "tree = DecisionTreeRegressor()\n",
    "knn = KNeighborsRegressor()\n",
    "rf = RandomForestRegressor()\n",
    "gbc = GradientBoostingClassifier()\n",
    "\n",
    "\n",
    "cvs_tree = cross_val_score(tree, Xtrain, ytrain, cv=CV_split, scoring='neg_mean_squared_error')\n",
    "cvs_knn = cross_val_score(knn, Xtrain, ytrain, cv=CV_split, scoring='neg_mean_squared_error')\n",
    "cvs_rf = cross_val_score(rf, Xtrain, ytrain, cv=CV_split, scoring='neg_mean_squared_error')\n",
    "cvs_gbc = cross_val_score(gbc, Xtrain, ytrain, cv=CV_split, scoring='neg_mean_squared_error')\n",
    "\n",
    "\n",
    "print(\"Average RMSE for the Decision Tree Model: \",np.sqrt(-cvs_tree).mean())\n",
    "print(\"Average RMSE for the KNN Model: \",np.sqrt(-cvs_knn).mean())\n",
    "print(\"Average RMSE for the Random Forest Model: \",np.sqrt(-cvs_rf).mean())\n",
    "print(\"Average RMSE for the Gradient Boosting Model: \",np.sqrt(-cvs_gbc).mean())"
   ]
  },
  {
   "cell_type": "markdown",
   "id": "670228c6",
   "metadata": {},
   "source": [
    "Sometimes simple is better, with the decision tree and random forest models coming close to the linear model, with root mean squared prediction errors of 9.91 and 8.09, respectively. At 7.57 the linear model still performs slightly better however. Going by the Occam's razor principle, simpler is better and I will therefore use the linear model for my final prediction. Let's have a closer look at the components of the linear model:"
   ]
  },
  {
   "cell_type": "code",
   "execution_count": 60,
   "id": "4f171df2",
   "metadata": {},
   "outputs": [
    {
     "data": {
      "text/html": [
       "<table class=\"simpletable\">\n",
       "<caption>OLS Regression Results</caption>\n",
       "<tr>\n",
       "  <th>Dep. Variable:</th>      <td>final_number</td>   <th>  R-squared (uncentered):</th>      <td>   0.991</td>\n",
       "</tr>\n",
       "<tr>\n",
       "  <th>Model:</th>                   <td>OLS</td>       <th>  Adj. R-squared (uncentered):</th> <td>   0.991</td>\n",
       "</tr>\n",
       "<tr>\n",
       "  <th>Method:</th>             <td>Least Squares</td>  <th>  F-statistic:       </th>          <td>   5987.</td>\n",
       "</tr>\n",
       "<tr>\n",
       "  <th>Date:</th>             <td>Thu, 23 Sep 2021</td> <th>  Prob (F-statistic):</th>           <td>  0.00</td> \n",
       "</tr>\n",
       "<tr>\n",
       "  <th>Time:</th>                 <td>10:02:46</td>     <th>  Log-Likelihood:    </th>          <td> -1475.6</td>\n",
       "</tr>\n",
       "<tr>\n",
       "  <th>No. Observations:</th>      <td>   448</td>      <th>  AIC:               </th>          <td>   2967.</td>\n",
       "</tr>\n",
       "<tr>\n",
       "  <th>Df Residuals:</th>          <td>   440</td>      <th>  BIC:               </th>          <td>   3000.</td>\n",
       "</tr>\n",
       "<tr>\n",
       "  <th>Df Model:</th>              <td>     8</td>      <th>                     </th>              <td> </td>   \n",
       "</tr>\n",
       "<tr>\n",
       "  <th>Covariance Type:</th>      <td>nonrobust</td>    <th>                     </th>              <td> </td>   \n",
       "</tr>\n",
       "</table>\n",
       "<table class=\"simpletable\">\n",
       "<tr>\n",
       "             <td></td>               <th>coef</th>     <th>std err</th>      <th>t</th>      <th>P>|t|</th>  <th>[0.025</th>    <th>0.975]</th>  \n",
       "</tr>\n",
       "<tr>\n",
       "  <th>day6</th>                   <td>    0.8958</td> <td>    0.005</td> <td>  164.477</td> <td> 0.000</td> <td>    0.885</td> <td>    0.907</td>\n",
       "</tr>\n",
       "<tr>\n",
       "  <th>addon_type_brunch</th>      <td>   -1.8083</td> <td>    0.873</td> <td>   -2.072</td> <td> 0.039</td> <td>   -3.524</td> <td>   -0.093</td>\n",
       "</tr>\n",
       "<tr>\n",
       "  <th>addon_type_soups</th>       <td>    2.4168</td> <td>    0.916</td> <td>    2.639</td> <td> 0.009</td> <td>    0.617</td> <td>    4.217</td>\n",
       "</tr>\n",
       "<tr>\n",
       "  <th>delivery_day_Saturday</th>  <td>    6.8477</td> <td>    0.971</td> <td>    7.049</td> <td> 0.000</td> <td>    4.939</td> <td>    8.757</td>\n",
       "</tr>\n",
       "<tr>\n",
       "  <th>delivery_day_Sunday</th>    <td>   -5.2777</td> <td>    0.810</td> <td>   -6.519</td> <td> 0.000</td> <td>   -6.869</td> <td>   -3.687</td>\n",
       "</tr>\n",
       "<tr>\n",
       "  <th>delivery_day_Thursday</th>  <td>    3.8869</td> <td>    0.899</td> <td>    4.326</td> <td> 0.000</td> <td>    2.121</td> <td>    5.653</td>\n",
       "</tr>\n",
       "<tr>\n",
       "  <th>delivery_day_Wednesday</th> <td>    4.2263</td> <td>    0.906</td> <td>    4.663</td> <td> 0.000</td> <td>    2.445</td> <td>    6.008</td>\n",
       "</tr>\n",
       "<tr>\n",
       "  <th>island_South</th>           <td>   -4.8766</td> <td>    0.729</td> <td>   -6.687</td> <td> 0.000</td> <td>   -6.310</td> <td>   -3.443</td>\n",
       "</tr>\n",
       "</table>\n",
       "<table class=\"simpletable\">\n",
       "<tr>\n",
       "  <th>Omnibus:</th>       <td>39.887</td> <th>  Durbin-Watson:     </th> <td>   2.171</td>\n",
       "</tr>\n",
       "<tr>\n",
       "  <th>Prob(Omnibus):</th> <td> 0.000</td> <th>  Jarque-Bera (JB):  </th> <td> 126.120</td>\n",
       "</tr>\n",
       "<tr>\n",
       "  <th>Skew:</th>          <td>-0.355</td> <th>  Prob(JB):          </th> <td>4.10e-28</td>\n",
       "</tr>\n",
       "<tr>\n",
       "  <th>Kurtosis:</th>      <td> 5.500</td> <th>  Cond. No.          </th> <td>    271.</td>\n",
       "</tr>\n",
       "</table><br/><br/>Notes:<br/>[1] R² is computed without centering (uncentered) since the model does not contain a constant.<br/>[2] Standard Errors assume that the covariance matrix of the errors is correctly specified."
      ],
      "text/plain": [
       "<class 'statsmodels.iolib.summary.Summary'>\n",
       "\"\"\"\n",
       "                                 OLS Regression Results                                \n",
       "=======================================================================================\n",
       "Dep. Variable:           final_number   R-squared (uncentered):                   0.991\n",
       "Model:                            OLS   Adj. R-squared (uncentered):              0.991\n",
       "Method:                 Least Squares   F-statistic:                              5987.\n",
       "Date:                Thu, 23 Sep 2021   Prob (F-statistic):                        0.00\n",
       "Time:                        10:02:46   Log-Likelihood:                         -1475.6\n",
       "No. Observations:                 448   AIC:                                      2967.\n",
       "Df Residuals:                     440   BIC:                                      3000.\n",
       "Df Model:                           8                                                  \n",
       "Covariance Type:            nonrobust                                                  \n",
       "==========================================================================================\n",
       "                             coef    std err          t      P>|t|      [0.025      0.975]\n",
       "------------------------------------------------------------------------------------------\n",
       "day6                       0.8958      0.005    164.477      0.000       0.885       0.907\n",
       "addon_type_brunch         -1.8083      0.873     -2.072      0.039      -3.524      -0.093\n",
       "addon_type_soups           2.4168      0.916      2.639      0.009       0.617       4.217\n",
       "delivery_day_Saturday      6.8477      0.971      7.049      0.000       4.939       8.757\n",
       "delivery_day_Sunday       -5.2777      0.810     -6.519      0.000      -6.869      -3.687\n",
       "delivery_day_Thursday      3.8869      0.899      4.326      0.000       2.121       5.653\n",
       "delivery_day_Wednesday     4.2263      0.906      4.663      0.000       2.445       6.008\n",
       "island_South              -4.8766      0.729     -6.687      0.000      -6.310      -3.443\n",
       "==============================================================================\n",
       "Omnibus:                       39.887   Durbin-Watson:                   2.171\n",
       "Prob(Omnibus):                  0.000   Jarque-Bera (JB):              126.120\n",
       "Skew:                          -0.355   Prob(JB):                     4.10e-28\n",
       "Kurtosis:                       5.500   Cond. No.                         271.\n",
       "==============================================================================\n",
       "\n",
       "Notes:\n",
       "[1] R² is computed without centering (uncentered) since the model does not contain a constant.\n",
       "[2] Standard Errors assume that the covariance matrix of the errors is correctly specified.\n",
       "\"\"\""
      ]
     },
     "execution_count": 60,
     "metadata": {},
     "output_type": "execute_result"
    }
   ],
   "source": [
    "import statsmodels.api as sm\n",
    "\n",
    "# Fit and summarize OLS model\n",
    "mod = sm.OLS(ytrain, Xtrain.drop(['day1','day5','day3','day2','day4',\n",
    "                                  'addon_type_fruitboxes','addon_type_sides',\n",
    "                                  'addon_type_lunch','addon_type_desserts','delivery_day_Monday',\n",
    "                                  'addon_type_ready-to-heat',\n",
    "                                  'island_North','delivery_day_Tuesday'],axis=1))\n",
    "\n",
    "res = mod.fit()\n",
    "\n",
    "res.summary()"
   ]
  },
  {
   "cell_type": "markdown",
   "id": "da2ddfcd",
   "metadata": {},
   "source": [
    "The Linear regression model yields an adjusted R-squared value of 0.982, thereby explaining 98.2% of the variation in the data which is in line with the expectation as we have daily data for every day of the same week. The final value therefore should not be too much of a surprise. \n",
    "\n",
    "Looking at the models explanatory variables, we can see that quite a few of them are insignificant at the 5% level(p-value > 0.05), therefore I will drop the non-significant ones from the model as they will likely lead to overfitting and/or the model being less accurate due to random noise.\n",
    "\n",
    "We notice in particular that all of day1-day5 (except day6) are highly insignificant. While this might seem surprising at first, this is likely due to multicollinearity, in other words day 1-5 containing much of the same information as day 6 does, which can cause the regression models assumptions to be violated and our predictions to be inaccurate. Therefore, I will drop the insignificant explanatory variables from the model and re-fit it."
   ]
  },
  {
   "cell_type": "code",
   "execution_count": 61,
   "id": "96b4ebb1",
   "metadata": {},
   "outputs": [
    {
     "name": "stdout",
     "output_type": "stream",
     "text": [
      "Average RMSE for the Linear Model:  6.577615729896767\n"
     ]
    }
   ],
   "source": [
    "cvs = cross_val_score(LR, Xtrain.drop(['day1','day5','day3','day2','day4',\n",
    "                                  'addon_type_fruitboxes','addon_type_sides',\n",
    "                                  'addon_type_lunch','addon_type_desserts','delivery_day_Monday',\n",
    "                                  'addon_type_ready-to-heat',\n",
    "                                  'island_North','delivery_day_Tuesday'],axis=1)\n",
    ", ytrain, cv=CV_split, scoring='neg_mean_squared_error')\n",
    "print(\"Average RMSE for the Linear Model: \",np.sqrt(-cvs).mean())"
   ]
  },
  {
   "cell_type": "markdown",
   "id": "49843d03",
   "metadata": {},
   "source": [
    "This gives a significant improvement from the initial linear regression model. I will use this model to make my final predictions:"
   ]
  },
  {
   "cell_type": "code",
   "execution_count": 81,
   "id": "9ab3bab1",
   "metadata": {},
   "outputs": [
    {
     "data": {
      "text/html": [
       "<div>\n",
       "<style scoped>\n",
       "    .dataframe tbody tr th:only-of-type {\n",
       "        vertical-align: middle;\n",
       "    }\n",
       "\n",
       "    .dataframe tbody tr th {\n",
       "        vertical-align: top;\n",
       "    }\n",
       "\n",
       "    .dataframe thead th {\n",
       "        text-align: right;\n",
       "    }\n",
       "</style>\n",
       "<table border=\"1\" class=\"dataframe\">\n",
       "  <thead>\n",
       "    <tr style=\"text-align: right;\">\n",
       "      <th></th>\n",
       "      <th>day6</th>\n",
       "      <th>final_number</th>\n",
       "    </tr>\n",
       "  </thead>\n",
       "  <tbody>\n",
       "    <tr>\n",
       "      <th>407</th>\n",
       "      <td>24.0</td>\n",
       "      <td>28.0</td>\n",
       "    </tr>\n",
       "    <tr>\n",
       "      <th>408</th>\n",
       "      <td>19.0</td>\n",
       "      <td>7.0</td>\n",
       "    </tr>\n",
       "    <tr>\n",
       "      <th>409</th>\n",
       "      <td>32.0</td>\n",
       "      <td>23.0</td>\n",
       "    </tr>\n",
       "    <tr>\n",
       "      <th>410</th>\n",
       "      <td>14.0</td>\n",
       "      <td>12.0</td>\n",
       "    </tr>\n",
       "    <tr>\n",
       "      <th>411</th>\n",
       "      <td>10.0</td>\n",
       "      <td>4.0</td>\n",
       "    </tr>\n",
       "  </tbody>\n",
       "</table>\n",
       "</div>"
      ],
      "text/plain": [
       "     day6  final_number\n",
       "407  24.0          28.0\n",
       "408  19.0           7.0\n",
       "409  32.0          23.0\n",
       "410  14.0          12.0\n",
       "411  10.0           4.0"
      ]
     },
     "execution_count": 81,
     "metadata": {},
     "output_type": "execute_result"
    }
   ],
   "source": [
    "final33 = final.loc[final['week']=='2020-W33']\n",
    "LR = LinearRegression()\n",
    "LR.fit(Xtrain.drop(['day1','day5','day3','day2','day4',\n",
    "                                  'addon_type_fruitboxes','addon_type_sides',\n",
    "                                  'addon_type_lunch','addon_type_desserts','delivery_day_Monday',\n",
    "                                  'addon_type_ready-to-heat',\n",
    "                                  'island_North','delivery_day_Tuesday'],axis=1), ytrain)\n",
    "\n",
    "final_pred33 = pd.get_dummies(final33).drop(['day1','day5','day3','day2','day4',\n",
    "                                  'addon_type_fruitboxes','addon_type_sides',\n",
    "                                  'addon_type_lunch','addon_type_desserts','delivery_day_Monday',\n",
    "                                  'addon_type_ready-to-heat',\n",
    "                                  'island_North','delivery_day_Tuesday','final_number','week_2020-W33'],axis=1)\n",
    "\n",
    "\n",
    "preds = LR.predict(final_pred33)\n",
    "\n",
    "final_pred33['final_number'] = np.round(preds)\n",
    "final_pred33 = final_pred33.drop(['addon_type_brunch','addon_type_soups','delivery_day_Saturday',\n",
    "                   'delivery_day_Sunday','delivery_day_Thursday','delivery_day_Wednesday','island_South'],axis=1)\n",
    "final_pred33.head()"
   ]
  },
  {
   "cell_type": "markdown",
   "id": "5abcc836",
   "metadata": {},
   "source": [
    "# Question 2: Long Term forecasting"
   ]
  },
  {
   "cell_type": "code",
   "execution_count": 18,
   "id": "1a2f4156",
   "metadata": {},
   "outputs": [
    {
     "data": {
      "text/html": [
       "<div>\n",
       "<style scoped>\n",
       "    .dataframe tbody tr th:only-of-type {\n",
       "        vertical-align: middle;\n",
       "    }\n",
       "\n",
       "    .dataframe tbody tr th {\n",
       "        vertical-align: top;\n",
       "    }\n",
       "\n",
       "    .dataframe thead th {\n",
       "        text-align: right;\n",
       "    }\n",
       "</style>\n",
       "<table border=\"1\" class=\"dataframe\">\n",
       "  <thead>\n",
       "    <tr style=\"text-align: right;\">\n",
       "      <th></th>\n",
       "      <th></th>\n",
       "      <th></th>\n",
       "      <th>mealbox_num</th>\n",
       "    </tr>\n",
       "    <tr>\n",
       "      <th>week</th>\n",
       "      <th>delivery_day</th>\n",
       "      <th>island</th>\n",
       "      <th></th>\n",
       "    </tr>\n",
       "  </thead>\n",
       "  <tbody>\n",
       "    <tr>\n",
       "      <th rowspan=\"5\" valign=\"top\">2020-W25</th>\n",
       "      <th>Saturday</th>\n",
       "      <th>North</th>\n",
       "      <td>5942</td>\n",
       "    </tr>\n",
       "    <tr>\n",
       "      <th>Sunday</th>\n",
       "      <th>South</th>\n",
       "      <td>4147</td>\n",
       "    </tr>\n",
       "    <tr>\n",
       "      <th rowspan=\"2\" valign=\"top\">Tuesday</th>\n",
       "      <th>North</th>\n",
       "      <td>7148</td>\n",
       "    </tr>\n",
       "    <tr>\n",
       "      <th>South</th>\n",
       "      <td>3099</td>\n",
       "    </tr>\n",
       "    <tr>\n",
       "      <th>Sunday</th>\n",
       "      <th>North</th>\n",
       "      <td>7751</td>\n",
       "    </tr>\n",
       "  </tbody>\n",
       "</table>\n",
       "</div>"
      ],
      "text/plain": [
       "                              mealbox_num\n",
       "week     delivery_day island             \n",
       "2020-W25 Saturday     North          5942\n",
       "         Sunday       South          4147\n",
       "         Tuesday      North          7148\n",
       "                      South          3099\n",
       "         Sunday       North          7751"
      ]
     },
     "execution_count": 18,
     "metadata": {},
     "output_type": "execute_result"
    }
   ],
   "source": [
    "final_mealboxes = pd.read_csv('../boxes_final.csv').drop(['box_type','production_day'],axis=1)\n",
    "final_mealboxes.rename(columns={'box_nr':'mealbox_num'}, inplace=True)\n",
    "final_mealboxes = final_mealboxes.set_index(['week','delivery_day','island'])\n",
    "final_mealboxes.head()"
   ]
  },
  {
   "cell_type": "code",
   "execution_count": 19,
   "id": "efb7cead",
   "metadata": {
    "scrolled": false
   },
   "outputs": [
    {
     "data": {
      "text/plain": [
       "<AxesSubplot:title={'center':'Total Mealbox numbers Week 25 - Week 52'}, xlabel='week'>"
      ]
     },
     "execution_count": 19,
     "metadata": {},
     "output_type": "execute_result"
    },
    {
     "data": {
      "image/png": "[encoded data removed]",
      "text/plain": [
       "<Figure size 1080x360 with 1 Axes>"
      ]
     },
     "metadata": {
      "needs_background": "light"
     },
     "output_type": "display_data"
    }
   ],
   "source": [
    "final_mealboxes.groupby('week').sum().plot(ylim=0,figsize=(15, 5),title='Total Mealbox numbers Week 25 - Week 52')"
   ]
  },
  {
   "cell_type": "markdown",
   "id": "d600328a",
   "metadata": {},
   "source": [
    "Looking at the above plot for total mealbox numbers for the remainder of the year, we can see a clear upwards trend from week 30 to week 35 onwards, with total mealbox numbers plateauing around 48,000 boxes in total. Towards the Christmas break then in week 52 we can see a significant drop in total mealboxes as customers likely pause their subscriptions while going on their end-of-year holidays."
   ]
  },
  {
   "cell_type": "markdown",
   "id": "81dda349",
   "metadata": {},
   "source": [
    "## Fitting a linear model to predict final numbers for each add-on product"
   ]
  },
  {
   "cell_type": "markdown",
   "id": "370f88e9",
   "metadata": {},
   "source": [
    "It seems like a reasonable assumptions that, on average, orders for add-on products will move in the same direction as orders for standard mealboxes. Therefore, in order to capture the trend of standard mealboxes and their relationship to final add-on numbers, I will begin by again fitting a linear regression model that takes mealbox numbers, delivery day, island and add-on time and outputs an estimate of final add-on numbers for each add-on type, delivery day and island combination.\n",
    "\n",
    "Daily numbers for week 25-32 on the other hand likely would not be helpful in explaining these longer-term trends and I will not be including those in the model.\n"
   ]
  },
  {
   "cell_type": "code",
   "execution_count": 20,
   "id": "2523bd0e",
   "metadata": {},
   "outputs": [
    {
     "data": {
      "text/html": [
       "<div>\n",
       "<style scoped>\n",
       "    .dataframe tbody tr th:only-of-type {\n",
       "        vertical-align: middle;\n",
       "    }\n",
       "\n",
       "    .dataframe tbody tr th {\n",
       "        vertical-align: top;\n",
       "    }\n",
       "\n",
       "    .dataframe thead th {\n",
       "        text-align: right;\n",
       "    }\n",
       "</style>\n",
       "<table border=\"1\" class=\"dataframe\">\n",
       "  <thead>\n",
       "    <tr style=\"text-align: right;\">\n",
       "      <th></th>\n",
       "      <th></th>\n",
       "      <th></th>\n",
       "      <th>addon_type</th>\n",
       "      <th>production_day</th>\n",
       "      <th>final_number</th>\n",
       "    </tr>\n",
       "    <tr>\n",
       "      <th>week</th>\n",
       "      <th>delivery_day</th>\n",
       "      <th>island</th>\n",
       "      <th></th>\n",
       "      <th></th>\n",
       "      <th></th>\n",
       "    </tr>\n",
       "  </thead>\n",
       "  <tbody>\n",
       "    <tr>\n",
       "      <th rowspan=\"5\" valign=\"top\">2020-W25</th>\n",
       "      <th rowspan=\"5\" valign=\"top\">Saturday</th>\n",
       "      <th>North</th>\n",
       "      <td>brunch</td>\n",
       "      <td>Friday</td>\n",
       "      <td>24.0</td>\n",
       "    </tr>\n",
       "    <tr>\n",
       "      <th>North</th>\n",
       "      <td>desserts</td>\n",
       "      <td>Friday</td>\n",
       "      <td>197.0</td>\n",
       "    </tr>\n",
       "    <tr>\n",
       "      <th>North</th>\n",
       "      <td>fruitboxes</td>\n",
       "      <td>Friday</td>\n",
       "      <td>43.0</td>\n",
       "    </tr>\n",
       "    <tr>\n",
       "      <th>North</th>\n",
       "      <td>lunch</td>\n",
       "      <td>Friday</td>\n",
       "      <td>22.0</td>\n",
       "    </tr>\n",
       "    <tr>\n",
       "      <th>North</th>\n",
       "      <td>sides</td>\n",
       "      <td>Friday</td>\n",
       "      <td>119.0</td>\n",
       "    </tr>\n",
       "  </tbody>\n",
       "</table>\n",
       "</div>"
      ],
      "text/plain": [
       "                              addon_type production_day  final_number\n",
       "week     delivery_day island                                         \n",
       "2020-W25 Saturday     North       brunch         Friday          24.0\n",
       "                      North     desserts         Friday         197.0\n",
       "                      North   fruitboxes         Friday          43.0\n",
       "                      North        lunch         Friday          22.0\n",
       "                      North        sides         Friday         119.0"
      ]
     },
     "execution_count": 20,
     "metadata": {},
     "output_type": "execute_result"
    }
   ],
   "source": [
    "final_nd = final.drop(['day1','day2','day3','day4','day5','day6'],axis=1)\n",
    "final_nd = final_nd.loc[final_nd['week'] != '2020-W33'].set_index(['week','delivery_day','island'])\n",
    "final_nd.head()"
   ]
  },
  {
   "cell_type": "code",
   "execution_count": 21,
   "id": "de6516da",
   "metadata": {},
   "outputs": [
    {
     "data": {
      "text/html": [
       "<div>\n",
       "<style scoped>\n",
       "    .dataframe tbody tr th:only-of-type {\n",
       "        vertical-align: middle;\n",
       "    }\n",
       "\n",
       "    .dataframe tbody tr th {\n",
       "        vertical-align: top;\n",
       "    }\n",
       "\n",
       "    .dataframe thead th {\n",
       "        text-align: right;\n",
       "    }\n",
       "</style>\n",
       "<table border=\"1\" class=\"dataframe\">\n",
       "  <thead>\n",
       "    <tr style=\"text-align: right;\">\n",
       "      <th></th>\n",
       "      <th>week</th>\n",
       "      <th>delivery_day</th>\n",
       "      <th>island</th>\n",
       "      <th>addon_type</th>\n",
       "      <th>production_day</th>\n",
       "      <th>final_number</th>\n",
       "      <th>mealbox_num</th>\n",
       "    </tr>\n",
       "  </thead>\n",
       "  <tbody>\n",
       "    <tr>\n",
       "      <th>0</th>\n",
       "      <td>2020-W25</td>\n",
       "      <td>Saturday</td>\n",
       "      <td>North</td>\n",
       "      <td>brunch</td>\n",
       "      <td>Friday</td>\n",
       "      <td>24</td>\n",
       "      <td>5942</td>\n",
       "    </tr>\n",
       "    <tr>\n",
       "      <th>1</th>\n",
       "      <td>2020-W25</td>\n",
       "      <td>Saturday</td>\n",
       "      <td>North</td>\n",
       "      <td>desserts</td>\n",
       "      <td>Friday</td>\n",
       "      <td>197</td>\n",
       "      <td>5942</td>\n",
       "    </tr>\n",
       "    <tr>\n",
       "      <th>2</th>\n",
       "      <td>2020-W25</td>\n",
       "      <td>Saturday</td>\n",
       "      <td>North</td>\n",
       "      <td>fruitboxes</td>\n",
       "      <td>Friday</td>\n",
       "      <td>43</td>\n",
       "      <td>5942</td>\n",
       "    </tr>\n",
       "    <tr>\n",
       "      <th>3</th>\n",
       "      <td>2020-W25</td>\n",
       "      <td>Saturday</td>\n",
       "      <td>North</td>\n",
       "      <td>lunch</td>\n",
       "      <td>Friday</td>\n",
       "      <td>22</td>\n",
       "      <td>5942</td>\n",
       "    </tr>\n",
       "    <tr>\n",
       "      <th>4</th>\n",
       "      <td>2020-W25</td>\n",
       "      <td>Saturday</td>\n",
       "      <td>North</td>\n",
       "      <td>sides</td>\n",
       "      <td>Friday</td>\n",
       "      <td>119</td>\n",
       "      <td>5942</td>\n",
       "    </tr>\n",
       "  </tbody>\n",
       "</table>\n",
       "</div>"
      ],
      "text/plain": [
       "       week delivery_day island  addon_type production_day  final_number  \\\n",
       "0  2020-W25     Saturday  North      brunch         Friday            24   \n",
       "1  2020-W25     Saturday  North    desserts         Friday           197   \n",
       "2  2020-W25     Saturday  North  fruitboxes         Friday            43   \n",
       "3  2020-W25     Saturday  North       lunch         Friday            22   \n",
       "4  2020-W25     Saturday  North       sides         Friday           119   \n",
       "\n",
       "   mealbox_num  \n",
       "0         5942  \n",
       "1         5942  \n",
       "2         5942  \n",
       "3         5942  \n",
       "4         5942  "
      ]
     },
     "execution_count": 21,
     "metadata": {},
     "output_type": "execute_result"
    }
   ],
   "source": [
    "final_mealboxes = pd.read_csv('../boxes_final.csv').drop(['box_type','production_day'],axis=1)\n",
    "final_mealboxes.head()\n",
    "final_mealboxes.rename(columns={'box_nr':'mealbox_num'}, inplace=True)\n",
    "\n",
    "final_mealboxes_train = final_mealboxes.loc[final_mealboxes['week'].isin(['2020-W25','2020-W26','2020-W27',\n",
    "                                                                          '2020-W28','2020-W29','2020-W30',\n",
    "                                                                          '2020-W31','2020-W32'])]\n",
    "final_mealboxes_train = final_mealboxes_train.set_index(['week','delivery_day','island'])\n",
    "complete_df = pd.merge(final_nd,final_mealboxes_train,how='outer',\n",
    "                    on=['week','delivery_day','island'])\n",
    "complete_df = complete_df.reset_index()\n",
    "complete_df['final_number'] = complete_df['final_number'].apply(lambda x: int(x))\n",
    "complete_df = complete_df[(complete_df != 0).all(1)]\n",
    "complete_df.head()"
   ]
  },
  {
   "cell_type": "markdown",
   "id": "fbce8d23",
   "metadata": {},
   "source": [
    "Now the data is in the correct format to fit a linear model"
   ]
  },
  {
   "cell_type": "code",
   "execution_count": 170,
   "id": "484213dc",
   "metadata": {},
   "outputs": [
    {
     "name": "stderr",
     "output_type": "stream",
     "text": [
      "/Users/lawrence/opt/anaconda3/lib/python3.8/site-packages/sklearn/model_selection/_split.py:666: UserWarning: The least populated class in y has only 1 members, which is less than n_splits=10.\n",
      "  warnings.warn((\"The least populated class in y has only %d\"\n"
     ]
    },
    {
     "name": "stdout",
     "output_type": "stream",
     "text": [
      "Average RMSE for the Linear Model:  22.643092337495876\n",
      "Average RMSE for the Decision Tree Model:  22.072213871352368\n",
      "Average RMSE for the KNN Model:  39.66910958252187\n",
      "Average RMSE for the Random Forest Model:  17.681702721821548\n",
      "Average RMSE for the Gradient Boosting Model:  22.718727737039252\n"
     ]
    }
   ],
   "source": [
    "train = pd.get_dummies(complete_df.drop('week',axis=1))\n",
    "\n",
    "x_train = train.drop('final_number', axis = 1)\n",
    "y_train = train.loc[:,'final_number']\n",
    "\n",
    "LR2 = LinearRegression()\n",
    "tree2 = DecisionTreeRegressor()\n",
    "knn2 = KNeighborsRegressor()\n",
    "rf2 = RandomForestRegressor()\n",
    "gbc2 = GradientBoostingClassifier()\n",
    "\n",
    "cvs_lin = cross_val_score(LR2, x_train, y_train, cv=10, scoring='neg_mean_squared_error')\n",
    "cvs_tree = cross_val_score(tree2, x_train, y_train, cv=10, scoring='neg_mean_squared_error')\n",
    "cvs_knn = cross_val_score(knn2, x_train, y_train, cv=10, scoring='neg_mean_squared_error')\n",
    "cvs_rf = cross_val_score(rf2, x_train, y_train, cv=10, scoring='neg_mean_squared_error')\n",
    "cvs_gbc = cross_val_score(gbc2, x_train, y_train, cv=10, scoring='neg_mean_squared_error')\n",
    "    \n",
    "print(\"Average RMSE for the Linear Model: \",np.sqrt(-cvs_lin).mean())\n",
    "print(\"Average RMSE for the Decision Tree Model: \",np.sqrt(-cvs_tree).mean())\n",
    "print(\"Average RMSE for the KNN Model: \",np.sqrt(-cvs_knn).mean())\n",
    "print(\"Average RMSE for the Random Forest Model: \",np.sqrt(-cvs_rf).mean())\n",
    "print(\"Average RMSE for the Gradient Boosting Model: \",np.sqrt(-cvs_gbc).mean())"
   ]
  },
  {
   "cell_type": "markdown",
   "id": "fdf6819c",
   "metadata": {},
   "source": [
    "Again, it appears that tree based models work best in this case, with the random forest regressor scoring best with a RMSE of 15.4, followed by the decision tree with a RMSE of 17.7 and the linear regression model with a rmse of 23.\n",
    "\n",
    "Let's see if we can fine-tune the random forest model's parameters a little to further improve performance:"
   ]
  },
  {
   "cell_type": "code",
   "execution_count": 171,
   "id": "e28f3fcb",
   "metadata": {},
   "outputs": [
    {
     "name": "stdout",
     "output_type": "stream",
     "text": [
      "16.35251763554024\n",
      "RandomForestRegressor(max_depth=8, max_features='log2', n_estimators=50)\n"
     ]
    }
   ],
   "source": [
    "from sklearn.model_selection import GridSearchCV\n",
    "rf = RandomForestRegressor()\n",
    "params = { \n",
    "    'n_estimators': [5,10,20,50],\n",
    "    'max_features': ['auto', 'sqrt', 'log2'],\n",
    "    'max_depth' : [i for i in range(4,16)]\n",
    "}\n",
    "\n",
    "grid_search = GridSearchCV(estimator=rf, cv=10, param_grid=params, scoring = 'neg_mean_squared_error')\n",
    "grid_search.fit(x_train, y_train)\n",
    "\n",
    "print(np.sqrt(-grid_search.best_score_))\n",
    "print(grid_search.best_estimator_)"
   ]
  },
  {
   "cell_type": "markdown",
   "id": "e60ba0cd",
   "metadata": {},
   "source": [
    "This is a decent improvement from the initial cross-validated mean squared prediction error. This seems like a reasonably good prediction score and I will use this to make my final predictions for the final numbers for the remaining weeks of the year."
   ]
  },
  {
   "cell_type": "code",
   "execution_count": 172,
   "id": "e9ee592b",
   "metadata": {},
   "outputs": [
    {
     "data": {
      "text/html": [
       "<div>\n",
       "<style scoped>\n",
       "    .dataframe tbody tr th:only-of-type {\n",
       "        vertical-align: middle;\n",
       "    }\n",
       "\n",
       "    .dataframe tbody tr th {\n",
       "        vertical-align: top;\n",
       "    }\n",
       "\n",
       "    .dataframe thead th {\n",
       "        text-align: right;\n",
       "    }\n",
       "</style>\n",
       "<table border=\"1\" class=\"dataframe\">\n",
       "  <thead>\n",
       "    <tr style=\"text-align: right;\">\n",
       "      <th></th>\n",
       "      <th>week</th>\n",
       "      <th>delivery_day</th>\n",
       "      <th>island</th>\n",
       "      <th>addon_type</th>\n",
       "      <th>mealbox_num</th>\n",
       "      <th>final_estimated_numbers</th>\n",
       "    </tr>\n",
       "  </thead>\n",
       "  <tbody>\n",
       "    <tr>\n",
       "      <th>0</th>\n",
       "      <td>2020-W33</td>\n",
       "      <td>Saturday</td>\n",
       "      <td>North</td>\n",
       "      <td>brunch</td>\n",
       "      <td>6033</td>\n",
       "      <td>36.0</td>\n",
       "    </tr>\n",
       "    <tr>\n",
       "      <th>1</th>\n",
       "      <td>2020-W33</td>\n",
       "      <td>Monday</td>\n",
       "      <td>North</td>\n",
       "      <td>ready-to-heat</td>\n",
       "      <td>4178</td>\n",
       "      <td>59.0</td>\n",
       "    </tr>\n",
       "    <tr>\n",
       "      <th>2</th>\n",
       "      <td>2020-W33</td>\n",
       "      <td>Sunday</td>\n",
       "      <td>South</td>\n",
       "      <td>soups</td>\n",
       "      <td>4630</td>\n",
       "      <td>61.0</td>\n",
       "    </tr>\n",
       "    <tr>\n",
       "      <th>3</th>\n",
       "      <td>2020-W33</td>\n",
       "      <td>Monday</td>\n",
       "      <td>North</td>\n",
       "      <td>lunch</td>\n",
       "      <td>4178</td>\n",
       "      <td>9.0</td>\n",
       "    </tr>\n",
       "    <tr>\n",
       "      <th>4</th>\n",
       "      <td>2020-W33</td>\n",
       "      <td>Monday</td>\n",
       "      <td>North</td>\n",
       "      <td>fruitboxes</td>\n",
       "      <td>4178</td>\n",
       "      <td>26.0</td>\n",
       "    </tr>\n",
       "  </tbody>\n",
       "</table>\n",
       "</div>"
      ],
      "text/plain": [
       "       week delivery_day island     addon_type  mealbox_num  \\\n",
       "0  2020-W33     Saturday  North         brunch         6033   \n",
       "1  2020-W33       Monday  North  ready-to-heat         4178   \n",
       "2  2020-W33       Sunday  South          soups         4630   \n",
       "3  2020-W33       Monday  North          lunch         4178   \n",
       "4  2020-W33       Monday  North     fruitboxes         4178   \n",
       "\n",
       "   final_estimated_numbers  \n",
       "0                     36.0  \n",
       "1                     59.0  \n",
       "2                     61.0  \n",
       "3                      9.0  \n",
       "4                     26.0  "
      ]
     },
     "execution_count": 172,
     "metadata": {},
     "output_type": "execute_result"
    }
   ],
   "source": [
    "final_rf=grid_search.best_estimator_\n",
    "final_rf.fit(x_train, y_train)\n",
    "\n",
    "final_nd = final.drop(['week','final_number','day1','day2','day3','day4','day5','day6'],axis=1).set_index(['delivery_day','island'])\n",
    "\n",
    "\n",
    "final_mealboxes_pred = final_mealboxes.loc[~final_mealboxes['week'].isin(['2020-W25','2020-W26','2020-W27',\n",
    "                                                                          '2020-W28','2020-W29','2020-W30',\n",
    "                                                                          '2020-W31','2020-W32'])].set_index(['delivery_day','island'])\n",
    "\n",
    "complete_df = pd.merge(final_nd,final_mealboxes_pred,how='outer',\n",
    "                    on=['delivery_day','island'])\n",
    "complete_df = complete_df.reset_index().sort_values('week').set_index('week')\n",
    "\n",
    "pred_vals = pd.get_dummies(complete_df)\n",
    "\n",
    "final_preds = final_rf.predict(pred_vals)\n",
    "complete_df['final_estimated_numbers'] = np.round(final_preds)\n",
    "complete_df = complete_df.reset_index()\n",
    "complete_df.head()"
   ]
  }
 ],
 "metadata": {
  "kernelspec": {
   "display_name": "Python 3",
   "language": "python",
   "name": "python3"
  },
  "language_info": {
   "codemirror_mode": {
    "name": "ipython",
    "version": 3
   },
   "file_extension": ".py",
   "mimetype": "text/x-python",
   "name": "python",
   "nbconvert_exporter": "python",
   "pygments_lexer": "ipython3",
   "version": "3.8.8"
  }
 },
 "nbformat": 4,
 "nbformat_minor": 5
}
